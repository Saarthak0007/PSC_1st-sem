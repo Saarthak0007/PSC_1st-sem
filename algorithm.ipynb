{
 "cells": [
  {
   "cell_type": "code",
   "execution_count": 6,
   "id": "c2482cfc-fdca-44c0-9674-60ab7ffdced8",
   "metadata": {},
   "outputs": [],
   "source": [
    "a=69"
   ]
  },
  {
   "cell_type": "code",
   "execution_count": 8,
   "id": "7cf683ff-ec9c-4dbc-97b5-8ad252776955",
   "metadata": {},
   "outputs": [
    {
     "name": "stdout",
     "output_type": "stream",
     "text": [
      "69\n"
     ]
    }
   ],
   "source": [
    "# library function or inbuilt function\n",
    "\n",
    "print(a)"
   ]
  },
  {
   "cell_type": "code",
   "execution_count": 1,
   "id": "7833ee40-48c9-46ed-8dfc-ee4e5da27473",
   "metadata": {},
   "outputs": [
    {
     "name": "stdout",
     "output_type": "stream",
     "text": [
      "saarthak umbre\n"
     ]
    }
   ],
   "source": [
    "print(\"saarthak umbre\")"
   ]
  },
  {
   "cell_type": "code",
   "execution_count": 2,
   "id": "ba5c72ae-dfe1-469e-b366-941a721102c5",
   "metadata": {},
   "outputs": [],
   "source": [
    "name=\"saarthak umbre\""
   ]
  },
  {
   "cell_type": "code",
   "execution_count": 3,
   "id": "41e61191-14a1-4d0e-bfa0-e2b833daeec1",
   "metadata": {},
   "outputs": [
    {
     "name": "stdout",
     "output_type": "stream",
     "text": [
      "saarthak umbre\n"
     ]
    }
   ],
   "source": [
    "print(name)"
   ]
  },
  {
   "cell_type": "code",
   "execution_count": null,
   "id": "df47ccf1-ff3f-4fdc-95ac-66477c77e1e5",
   "metadata": {},
   "outputs": [],
   "source": [
    "a,b,c=5"
   ]
  },
  {
   "cell_type": "code",
   "execution_count": 6,
   "id": "a4acc64b-08a9-4fc5-9a24-2d80480a0841",
   "metadata": {},
   "outputs": [],
   "source": [
    "a,b,c=5,4,7"
   ]
  },
  {
   "cell_type": "code",
   "execution_count": 7,
   "id": "7235adad-83c4-45a4-b747-8373f4a5052f",
   "metadata": {},
   "outputs": [],
   "source": [
    "a=b=c=7"
   ]
  },
  {
   "cell_type": "code",
   "execution_count": 14,
   "id": "7ef15952-4a71-4806-9de0-71666b74d06b",
   "metadata": {},
   "outputs": [
    {
     "name": "stdout",
     "output_type": "stream",
     "text": [
      "7,7,7\n"
     ]
    }
   ],
   "source": [
    "print(a,b,c, sep=',')"
   ]
  },
  {
   "cell_type": "code",
   "execution_count": null,
   "id": "fa68edd0-a6eb-482a-8ea3-80fbc49bcb74",
   "metadata": {},
   "outputs": [],
   "source": [
    "o/p--> 7,7,7"
   ]
  },
  {
   "cell_type": "code",
   "execution_count": 16,
   "id": "07d33a01-9b17-4b73-96a4-9726d582cdb2",
   "metadata": {},
   "outputs": [
    {
     "name": "stdout",
     "output_type": "stream",
     "text": [
      "7,7,7\n"
     ]
    }
   ],
   "source": [
    "print(a ,b ,c , sep=',')"
   ]
  },
  {
   "cell_type": "code",
   "execution_count": 18,
   "id": "7171ad5c-75e1-4901-9aca-8c3729de8eaf",
   "metadata": {},
   "outputs": [
    {
     "name": "stdout",
     "output_type": "stream",
     "text": [
      "7@7@7\n"
     ]
    }
   ],
   "source": [
    "print(a ,b ,c , sep='@')"
   ]
  },
  {
   "cell_type": "code",
   "execution_count": 20,
   "id": "8eeedd54-0801-4108-a8e6-d0b2865de7b6",
   "metadata": {},
   "outputs": [
    {
     "name": "stdout",
     "output_type": "stream",
     "text": [
      "456789\n"
     ]
    }
   ],
   "source": [
    "print(45,67,89,sep = '')"
   ]
  },
  {
   "cell_type": "code",
   "execution_count": 21,
   "id": "921a991b-352b-4dee-b967-f062757adf74",
   "metadata": {},
   "outputs": [
    {
     "name": "stdout",
     "output_type": "stream",
     "text": [
      "45,67,89\n"
     ]
    }
   ],
   "source": [
    "print(45,67,89,sep = ',')"
   ]
  },
  {
   "cell_type": "code",
   "execution_count": 22,
   "id": "2c173b23-a1d4-4055-9a1f-bf12d1b70f1a",
   "metadata": {},
   "outputs": [
    {
     "name": "stdout",
     "output_type": "stream",
     "text": [
      "saarthak umbre\n",
      "vaishnavi sharma\n"
     ]
    }
   ],
   "source": [
    "print(\"saarthak umbre\")\n",
    "print(\"vaishnavi sharma\")"
   ]
  },
  {
   "cell_type": "code",
   "execution_count": 24,
   "id": "ce76309d-2b6c-4eae-bdcd-631297bee3d8",
   "metadata": {},
   "outputs": [
    {
     "name": "stdout",
     "output_type": "stream",
     "text": [
      "saarthak umbre\tvaishnavi sharma\n"
     ]
    }
   ],
   "source": [
    "print(\"saarthak umbre\", end='\\t')\n",
    "print(\"vaishnavi sharma\")"
   ]
  },
  {
   "cell_type": "code",
   "execution_count": 25,
   "id": "f6611c04-1ba7-4d60-bd28-28dc239d98ba",
   "metadata": {},
   "outputs": [
    {
     "name": "stdout",
     "output_type": "stream",
     "text": [
      "saarthak umbre\tvaishnavi sharma\n",
      "vaishnavi sharma\n"
     ]
    }
   ],
   "source": [
    "print(\"saarthak umbre\", end='\\t')\n",
    "print(\"vaishnavi sharma\")\n",
    "print(\"vaishnavi sharma\")"
   ]
  },
  {
   "cell_type": "code",
   "execution_count": 26,
   "id": "050bb151-6f6c-48cf-b550-46bdc626f41a",
   "metadata": {},
   "outputs": [
    {
     "name": "stdout",
     "output_type": "stream",
     "text": [
      "enter two nos \n"
     ]
    },
    {
     "name": "stdin",
     "output_type": "stream",
     "text": [
      "7 1\n",
      "7 2\n"
     ]
    },
    {
     "name": "stdout",
     "output_type": "stream",
     "text": [
      "14\n"
     ]
    }
   ],
   "source": [
    "# write code to add 2 no \n",
    "print(\"enter two nos \")\n",
    "input(a)\n",
    "input(b)\n",
    "c=a+b\n",
    "print(c)"
   ]
  },
  {
   "cell_type": "code",
   "execution_count": 31,
   "id": "38d7436c-5b47-4b8e-9696-6160099bbd46",
   "metadata": {},
   "outputs": [
    {
     "name": "stdout",
     "output_type": "stream",
     "text": [
      "enter two nos \n"
     ]
    },
    {
     "name": "stdin",
     "output_type": "stream",
     "text": [
      "input the value of a  5\n",
      "input the value of b  5\n"
     ]
    },
    {
     "name": "stdout",
     "output_type": "stream",
     "text": [
      "10\n"
     ]
    }
   ],
   "source": [
    "print(\"enter two nos \")\n",
    "a=int(input(\"input the value of a \"))\n",
    "b=int(input(\"input the value of b \"))\n",
    "c=a+b\n",
    "print(c)"
   ]
  },
  {
   "cell_type": "code",
   "execution_count": null,
   "id": "23c2e844-899a-4588-ad1a-925c8a1eb3a8",
   "metadata": {},
   "outputs": [],
   "source": []
  }
 ],
 "metadata": {
  "kernelspec": {
   "display_name": "Python 3 (ipykernel)",
   "language": "python",
   "name": "python3"
  },
  "language_info": {
   "codemirror_mode": {
    "name": "ipython",
    "version": 3
   },
   "file_extension": ".py",
   "mimetype": "text/x-python",
   "name": "python",
   "nbconvert_exporter": "python",
   "pygments_lexer": "ipython3",
   "version": "3.12.4"
  }
 },
 "nbformat": 4,
 "nbformat_minor": 5
}
