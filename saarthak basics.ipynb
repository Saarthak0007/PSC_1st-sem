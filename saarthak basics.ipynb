{
 "cells": [
  {
   "cell_type": "code",
   "execution_count": 1,
   "id": "5f5eba3e-27d8-4a5c-bef5-196b5ef7bdac",
   "metadata": {},
   "outputs": [],
   "source": [
    "name= \"saarthak\"\n"
   ]
  },
  {
   "cell_type": "code",
   "execution_count": 2,
   "id": "8d7880e7-b8cc-4c93-8815-581005af0bda",
   "metadata": {},
   "outputs": [
    {
     "data": {
      "text/plain": [
       "2"
      ]
     },
     "execution_count": 2,
     "metadata": {},
     "output_type": "execute_result"
    }
   ],
   "source": [
    "2"
   ]
  },
  {
   "cell_type": "code",
   "execution_count": 3,
   "id": "192f0572-68a5-43cc-a67c-f0720caf0b50",
   "metadata": {},
   "outputs": [
    {
     "data": {
      "text/plain": [
       "str"
      ]
     },
     "execution_count": 3,
     "metadata": {},
     "output_type": "execute_result"
    }
   ],
   "source": [
    "type (name)"
   ]
  },
  {
   "cell_type": "code",
   "execution_count": 8,
   "id": "48abaf87-fa75-4d16-8003-62704f00508e",
   "metadata": {},
   "outputs": [],
   "source": [
    "a= 77543.4574"
   ]
  },
  {
   "cell_type": "code",
   "execution_count": 9,
   "id": "04909094-9e45-4bc9-8468-b4121e58fb42",
   "metadata": {},
   "outputs": [
    {
     "data": {
      "text/plain": [
       "float"
      ]
     },
     "execution_count": 9,
     "metadata": {},
     "output_type": "execute_result"
    }
   ],
   "source": [
    "type( a )"
   ]
  },
  {
   "cell_type": "code",
   "execution_count": 10,
   "id": "7c55c4d5-2aa2-47b7-aa28-3e650ad9b43e",
   "metadata": {},
   "outputs": [],
   "source": [
    "a = 7+8j"
   ]
  },
  {
   "cell_type": "code",
   "execution_count": 11,
   "id": "2fe411a2-10c6-4154-88e5-67cd9c647cee",
   "metadata": {},
   "outputs": [
    {
     "data": {
      "text/plain": [
       "69"
      ]
     },
     "execution_count": 11,
     "metadata": {},
     "output_type": "execute_result"
    }
   ],
   "source": [
    "1+68"
   ]
  },
  {
   "cell_type": "code",
   "execution_count": 12,
   "id": "741535ce-c504-44fe-b3cc-83b8f4160b8f",
   "metadata": {},
   "outputs": [
    {
     "data": {
      "text/plain": [
       "(7+8j)"
      ]
     },
     "execution_count": 12,
     "metadata": {},
     "output_type": "execute_result"
    }
   ],
   "source": [
    "(7+8j)"
   ]
  },
  {
   "cell_type": "code",
   "execution_count": 13,
   "id": "f134f36a-7c87-432f-aabe-d5f0433ce111",
   "metadata": {},
   "outputs": [
    {
     "data": {
      "text/plain": [
       "(14+16j)"
      ]
     },
     "execution_count": 13,
     "metadata": {},
     "output_type": "execute_result"
    }
   ],
   "source": [
    "a+a"
   ]
  },
  {
   "cell_type": "code",
   "execution_count": 14,
   "id": "0679550e-0f57-44da-87bd-7faade2fcee9",
   "metadata": {},
   "outputs": [
    {
     "data": {
      "text/plain": [
       "(7+8j)"
      ]
     },
     "execution_count": 14,
     "metadata": {},
     "output_type": "execute_result"
    }
   ],
   "source": [
    "atled1\n",
    "Last Checkpoint: 9 minutes ago\n",
    "[Python 3 (ipykernel)]\n"
   ]
  },
  {
   "cell_type": "code",
   "execution_count": 17,
   "id": "6c5421f0-31a9-4b1b-8448-9bdcf6df9800",
   "metadata": {},
   "outputs": [],
   "source": [
    "n = a+a"
   ]
  },
  {
   "cell_type": "code",
   "execution_count": 18,
   "id": "0a72ecdb-a8e3-486b-8e17-fb1e6052167b",
   "metadata": {},
   "outputs": [
    {
     "data": {
      "text/plain": [
       "(14+16j)"
      ]
     },
     "execution_count": 18,
     "metadata": {},
     "output_type": "execute_result"
    }
   ],
   "source": [
    "n"
   ]
  },
  {
   "cell_type": "code",
   "execution_count": 19,
   "id": "578ac430-b175-4231-84d1-959990704943",
   "metadata": {},
   "outputs": [
    {
     "data": {
      "text/plain": [
       "(-15+112j)"
      ]
     },
     "execution_count": 19,
     "metadata": {},
     "output_type": "execute_result"
    }
   ],
   "source": [
    "a*a"
   ]
  },
  {
   "cell_type": "code",
   "execution_count": 20,
   "id": "40cd894c-3da7-4a3c-b416-5689f51e36f1",
   "metadata": {},
   "outputs": [
    {
     "data": {
      "text/plain": [
       "(1+0j)"
      ]
     },
     "execution_count": 20,
     "metadata": {},
     "output_type": "execute_result"
    }
   ],
   "source": [
    "a/a"
   ]
  },
  {
   "cell_type": "code",
   "execution_count": 22,
   "id": "96c80a54-bae1-4fb5-8162-466f8137bd73",
   "metadata": {},
   "outputs": [
    {
     "data": {
      "text/plain": [
       "1"
      ]
     },
     "execution_count": 22,
     "metadata": {},
     "output_type": "execute_result"
    }
   ],
   "source": [
    "True-False"
   ]
  },
  {
   "cell_type": "code",
   "execution_count": 23,
   "id": "2eeb2f01-5c8e-4128-86e4-0ee9935f0ce4",
   "metadata": {},
   "outputs": [],
   "source": [
    "a =True"
   ]
  },
  {
   "cell_type": "code",
   "execution_count": 24,
   "id": "227a1471-b4ae-453f-89d3-dabc1dac7e6a",
   "metadata": {},
   "outputs": [
    {
     "data": {
      "text/plain": [
       "True"
      ]
     },
     "execution_count": 24,
     "metadata": {},
     "output_type": "execute_result"
    }
   ],
   "source": [
    "a"
   ]
  },
  {
   "cell_type": "code",
   "execution_count": 25,
   "id": "d7709bc4-3cfa-4591-898e-4ac2c08c88ce",
   "metadata": {},
   "outputs": [
    {
     "data": {
      "text/plain": [
       "bool"
      ]
     },
     "execution_count": 25,
     "metadata": {},
     "output_type": "execute_result"
    }
   ],
   "source": [
    "type(a)"
   ]
  },
  {
   "cell_type": "code",
   "execution_count": 29,
   "id": "c9e8846a-f6a1-42f5-bb2e-16c558c0b79d",
   "metadata": {},
   "outputs": [
    {
     "data": {
      "text/plain": [
       "-1"
      ]
     },
     "execution_count": 29,
     "metadata": {},
     "output_type": "execute_result"
    }
   ],
   "source": [
    "False-True"
   ]
  },
  {
   "cell_type": "code",
   "execution_count": null,
   "id": "e90fc92b-d105-44ab-ac84-64f45fbd7ae4",
   "metadata": {},
   "outputs": [],
   "source": []
  },
  {
   "cell_type": "code",
   "execution_count": 30,
   "id": "21050e4a-d42d-499c-8484-59cb3bb727b8",
   "metadata": {},
   "outputs": [
    {
     "data": {
      "text/plain": [
       "0"
      ]
     },
     "execution_count": 30,
     "metadata": {},
     "output_type": "execute_result"
    }
   ],
   "source": [
    "False*True"
   ]
  },
  {
   "cell_type": "code",
   "execution_count": 32,
   "id": "408e2237-12b9-4e35-9adf-9ee1d3d7b889",
   "metadata": {},
   "outputs": [
    {
     "ename": "ZeroDivisionError",
     "evalue": "division by zero",
     "output_type": "error",
     "traceback": [
      "\u001b[0;31m---------------------------------------------------------------------------\u001b[0m",
      "\u001b[0;31mZeroDivisionError\u001b[0m                         Traceback (most recent call last)",
      "Cell \u001b[0;32mIn[32], line 1\u001b[0m\n\u001b[0;32m----> 1\u001b[0m \u001b[38;5;28;01mTrue\u001b[39;00m\u001b[38;5;241m/\u001b[39m\u001b[38;5;28;01mFalse\u001b[39;00m\n",
      "\u001b[0;31mZeroDivisionError\u001b[0m: division by zero"
     ]
    }
   ],
   "source": [
    "True/False"
   ]
  },
  {
   "cell_type": "code",
   "execution_count": 34,
   "id": "a1c5b042-896a-45a7-93d1-94bc2f69a9d2",
   "metadata": {},
   "outputs": [
    {
     "data": {
      "text/plain": [
       "-4"
      ]
     },
     "execution_count": 34,
     "metadata": {},
     "output_type": "execute_result"
    }
   ],
   "source": [
    "True-5"
   ]
  },
  {
   "cell_type": "code",
   "execution_count": 36,
   "id": "54417b5c-eecc-482b-b886-7227dc0f59d9",
   "metadata": {},
   "outputs": [
    {
     "data": {
      "text/plain": [
       "5"
      ]
     },
     "execution_count": 36,
     "metadata": {},
     "output_type": "execute_result"
    }
   ],
   "source": [
    "False+5"
   ]
  },
  {
   "cell_type": "code",
   "execution_count": 40,
   "id": "550adcfb-46ed-453c-bf4c-2f489669aa76",
   "metadata": {},
   "outputs": [],
   "source": [
    "name =\"saarthak umbre\" \n"
   ]
  },
  {
   "cell_type": "code",
   "execution_count": 43,
   "id": "3183446d-0413-4907-b43d-43b13e1ba18d",
   "metadata": {},
   "outputs": [
    {
     "data": {
      "text/plain": [
       "'saarthak umbre'"
      ]
     },
     "execution_count": 43,
     "metadata": {},
     "output_type": "execute_result"
    }
   ],
   "source": [
    "name"
   ]
  },
  {
   "cell_type": "code",
   "execution_count": null,
   "id": "38f8b8c8-b419-4e64-a696-628d56abee40",
   "metadata": {
    "scrolled": true
   },
   "outputs": [],
   "source": [
    "name[0:50]"
   ]
  },
  {
   "cell_type": "markdown",
   "id": "6debefd4-9319-41fd-bde1-ce943f19da88",
   "metadata": {},
   "source": [
    "name [0:-5]"
   ]
  },
  {
   "cell_type": "code",
   "execution_count": null,
   "id": "cc6b27c2-45b4-47bc-8b3d-46bade6dac1b",
   "metadata": {},
   "outputs": [],
   "source": [
    "'jayamala kumbhar'"
   ]
  },
  {
   "cell_type": "code",
   "execution_count": null,
   "id": "0ea68a41-77bb-4125-8f1f-04baa0452a2f",
   "metadata": {},
   "outputs": [],
   "source": [
    "name[15:0:-1]"
   ]
  },
  {
   "cell_type": "code",
   "execution_count": null,
   "id": "8fd36466-5e3e-49e5-a9df-0eb7657fe25a",
   "metadata": {},
   "outputs": [],
   "source": []
  },
  {
   "cell_type": "markdown",
   "id": "4ada73f1-8176-4cab-8584-501f5c332313",
   "metadata": {},
   "source": [
    "name[-5:-15]"
   ]
  },
  {
   "cell_type": "code",
   "execution_count": null,
   "id": "4ded431c-21b4-49c4-aa64-426295be7788",
   "metadata": {},
   "outputs": [],
   "source": [
    "#wap to reverse your name\n"
   ]
  },
  {
   "cell_type": "code",
   "execution_count": 3,
   "id": "0984a210-86d8-4334-9581-8b6f0e9d3b29",
   "metadata": {},
   "outputs": [],
   "source": [
    "name= 'saarthak umbre'"
   ]
  },
  {
   "cell_type": "code",
   "execution_count": 2,
   "id": "c2027e30-3407-4fa2-8f4b-70a1ff42340c",
   "metadata": {},
   "outputs": [
    {
     "data": {
      "text/plain": [
       "'name'"
      ]
     },
     "execution_count": 2,
     "metadata": {},
     "output_type": "execute_result"
    }
   ],
   "source": []
  },
  {
   "cell_type": "code",
   "execution_count": null,
   "id": "ccbea6dc-b3ac-4042-9c1e-810207dea7d9",
   "metadata": {},
   "outputs": [],
   "source": []
  }
 ],
 "metadata": {
  "kernelspec": {
   "display_name": "Python 3 (ipykernel)",
   "language": "python",
   "name": "python3"
  },
  "language_info": {
   "codemirror_mode": {
    "name": "ipython",
    "version": 3
   },
   "file_extension": ".py",
   "mimetype": "text/x-python",
   "name": "python",
   "nbconvert_exporter": "python",
   "pygments_lexer": "ipython3",
   "version": "3.12.4"
  }
 },
 "nbformat": 4,
 "nbformat_minor": 5
}
