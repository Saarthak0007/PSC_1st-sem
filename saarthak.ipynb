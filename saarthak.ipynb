{
 "cells": [
  {
   "cell_type": "code",
   "execution_count": 1,
   "id": "54b10b60-13ed-4226-8c14-d9c680c207ed",
   "metadata": {},
   "outputs": [],
   "source": [
    "name= \"saarthak umbre\""
   ]
  },
  {
   "cell_type": "code",
   "execution_count": 2,
   "id": "3afdeb05-bbd3-470d-baf1-ef054da05d28",
   "metadata": {},
   "outputs": [
    {
     "data": {
      "text/plain": [
       "'saarthak umbre'"
      ]
     },
     "execution_count": 2,
     "metadata": {},
     "output_type": "execute_result"
    }
   ],
   "source": [
    "name"
   ]
  },
  {
   "cell_type": "code",
   "execution_count": 3,
   "id": "e4604364-25cc-4490-be76-8d94a645cbf0",
   "metadata": {},
   "outputs": [
    {
     "data": {
      "text/plain": [
       "'a'"
      ]
     },
     "execution_count": 3,
     "metadata": {},
     "output_type": "execute_result"
    }
   ],
   "source": [
    "name[]"
   ]
  },
  {
   "cell_type": "code",
   "execution_count": 4,
   "id": "137b6c1d-88e0-4014-957c-c74804a91dae",
   "metadata": {},
   "outputs": [],
   "source": [
    "name=\"prasanna babar\""
   ]
  },
  {
   "cell_type": "code",
   "execution_count": 5,
   "id": "a88cf698-9929-448f-a35a-b82fbddc99ae",
   "metadata": {},
   "outputs": [
    {
     "data": {
      "text/plain": [
       "'prasanna babar'"
      ]
     },
     "execution_count": 5,
     "metadata": {},
     "output_type": "execute_result"
    }
   ],
   "source": [
    "name"
   ]
  },
  {
   "cell_type": "code",
   "execution_count": 6,
   "id": "62329cea-dac1-4aa4-9d2d-fa8dcb0889c9",
   "metadata": {},
   "outputs": [
    {
     "data": {
      "text/plain": [
       "'n'"
      ]
     },
     "execution_count": 6,
     "metadata": {},
     "output_type": "execute_result"
    }
   ],
   "source": [
    "name[6]"
   ]
  },
  {
   "cell_type": "code",
   "execution_count": 8,
   "id": "dda2a046-dcd2-4f0a-9eb7-d6a729384394",
   "metadata": {},
   "outputs": [],
   "source": [
    "# slicing operation"
   ]
  },
  {
   "cell_type": "code",
   "execution_count": 10,
   "id": "8a7b03ea-474d-4b3a-8ad1-a4fad307e2e5",
   "metadata": {},
   "outputs": [
    {
     "data": {
      "text/plain": [
       "'rabab annasarp'"
      ]
     },
     "execution_count": 10,
     "metadata": {},
     "output_type": "execute_result"
    }
   ],
   "source": [
    " name[-1:-15:-1]"
   ]
  },
  {
   "cell_type": "code",
   "execution_count": 16,
   "id": "676d5a48-5365-4f07-902a-2fc9983306a2",
   "metadata": {},
   "outputs": [
    {
     "data": {
      "text/plain": [
       "' annas'"
      ]
     },
     "execution_count": 16,
     "metadata": {},
     "output_type": "execute_result"
    }
   ],
   "source": [
    "name[-6:2:-1]"
   ]
  },
  {
   "cell_type": "code",
   "execution_count": 25,
   "id": "3f559459-2669-4976-a78d-a21f8b4bf877",
   "metadata": {},
   "outputs": [
    {
     "data": {
      "text/plain": [
       "'anna ba'"
      ]
     },
     "execution_count": 25,
     "metadata": {},
     "output_type": "execute_result"
    }
   ],
   "source": [
    "name[-10:-3:1]"
   ]
  },
  {
   "cell_type": "code",
   "execution_count": 27,
   "id": "f71f5b8f-3b37-4558-ad0d-a92f466c79ee",
   "metadata": {},
   "outputs": [
    {
     "data": {
      "text/plain": [
       "'n'"
      ]
     },
     "execution_count": 27,
     "metadata": {},
     "output_type": "execute_result"
    }
   ],
   "source": [
    "name[-9:-10:-1]"
   ]
  },
  {
   "cell_type": "code",
   "execution_count": 26,
   "id": "c35f2427-660d-4d69-9648-530e61720f1f",
   "metadata": {},
   "outputs": [
    {
     "data": {
      "text/plain": [
       "''"
      ]
     },
     "execution_count": 26,
     "metadata": {},
     "output_type": "execute_result"
    }
   ],
   "source": [
    "name[-5:3:1]"
   ]
  },
  {
   "cell_type": "code",
   "execution_count": 24,
   "id": "0b1eabce-1758-46d1-b7a8-1cd6cefc7dd4",
   "metadata": {},
   "outputs": [
    {
     "data": {
      "text/plain": [
       "''"
      ]
     },
     "execution_count": 24,
     "metadata": {},
     "output_type": "execute_result"
    }
   ],
   "source": [
    "name[5:10:-1]"
   ]
  },
  {
   "cell_type": "markdown",
   "id": "14fa1b3f-0a11-40f6-a35b-7ed694171c68",
   "metadata": {},
   "source": [
    " name[6:-2]"
   ]
  },
  {
   "cell_type": "code",
   "execution_count": 1,
   "id": "c6797de9-5b1e-43e5-bee8-24f22a257797",
   "metadata": {},
   "outputs": [],
   "source": [
    "name1=\"saarthak umbre\""
   ]
  },
  {
   "cell_type": "code",
   "execution_count": 2,
   "id": "8ee1d670-21cb-45a9-a811-ba3c64d64400",
   "metadata": {},
   "outputs": [
    {
     "data": {
      "text/plain": [
       "'saarthak umbre'"
      ]
     },
     "execution_count": 2,
     "metadata": {},
     "output_type": "execute_result"
    }
   ],
   "source": [
    "name1"
   ]
  },
  {
   "cell_type": "code",
   "execution_count": 4,
   "id": "134b1292-65fe-4e9e-8dca-20611221dc1c",
   "metadata": {},
   "outputs": [
    {
     "data": {
      "text/plain": [
       "'erbmu kahtraas'"
      ]
     },
     "execution_count": 4,
     "metadata": {},
     "output_type": "execute_result"
    }
   ],
   "source": [
    "name1[-1: :-1]"
   ]
  },
  {
   "cell_type": "code",
   "execution_count": 19,
   "id": "f3d77fd0-c507-4f6d-8320-999a75a1e6cb",
   "metadata": {},
   "outputs": [],
   "source": [
    "name2=\"jkldfieushbtuiosjto;bjsroitbjsi'rjtb'psojirweghiakfbmoivabebklr\""
   ]
  },
  {
   "cell_type": "code",
   "execution_count": 20,
   "id": "7a7d9dbe-f8c2-4941-8164-f93ba8730843",
   "metadata": {},
   "outputs": [
    {
     "data": {
      "text/plain": [
       "\"jkldfieushbtuiosjto;bjsroitbjsi'rjtb'psojirweghiakfbmoivabebklr\""
      ]
     },
     "execution_count": 20,
     "metadata": {},
     "output_type": "execute_result"
    }
   ],
   "source": [
    "name2"
   ]
  },
  {
   "cell_type": "code",
   "execution_count": 21,
   "id": "0d16d5ba-ca2d-481f-b54b-9c75f666f450",
   "metadata": {},
   "outputs": [
    {
     "data": {
      "text/plain": [
       "\"rlkbebaviombfkaihgewrijosp'btjr'isjbtiorsjb;otjsoiutbhsueifdlkj\""
      ]
     },
     "execution_count": 21,
     "metadata": {},
     "output_type": "execute_result"
    }
   ],
   "source": [
    "name2[-1: :-1]"
   ]
  },
  {
   "cell_type": "code",
   "execution_count": 5,
   "id": "5fce55af-b3ea-4713-9aac-205b60a2fedc",
   "metadata": {},
   "outputs": [
    {
     "data": {
      "text/plain": [
       "14"
      ]
     },
     "execution_count": 5,
     "metadata": {},
     "output_type": "execute_result"
    }
   ],
   "source": [
    "# find the length of name\n",
    "len(name1)"
   ]
  },
  {
   "cell_type": "code",
   "execution_count": 14,
   "id": "e8a00a2d-804a-4a24-97f8-be6e2aff97ff",
   "metadata": {},
   "outputs": [
    {
     "data": {
      "text/plain": [
       "'saarthak umbresaarthak umbresaarthak umbresaarthak umbre'"
      ]
     },
     "execution_count": 14,
     "metadata": {},
     "output_type": "execute_result"
    }
   ],
   "source": [
    "name1*4"
   ]
  },
  {
   "cell_type": "code",
   "execution_count": 11,
   "id": "7548c7ea-345c-4da6-90aa-b013d466f0e2",
   "metadata": {},
   "outputs": [
    {
     "data": {
      "text/plain": [
       "3"
      ]
     },
     "execution_count": 11,
     "metadata": {},
     "output_type": "execute_result"
    }
   ],
   "source": [
    "name1.count('a')"
   ]
  },
  {
   "cell_type": "code",
   "execution_count": 17,
   "id": "cfaeee9b-2d33-4517-8515-b7174ae5e56b",
   "metadata": {},
   "outputs": [
    {
     "data": {
      "text/plain": [
       "['s', '', 'rth', 'k umbre']"
      ]
     },
     "execution_count": 17,
     "metadata": {},
     "output_type": "execute_result"
    }
   ],
   "source": [
    "name1.split('a')"
   ]
  },
  {
   "cell_type": "code",
   "execution_count": 18,
   "id": "0996034c-ed03-4d2e-8e37-b9c90798196d",
   "metadata": {},
   "outputs": [
    {
     "data": {
      "text/plain": [
       "list"
      ]
     },
     "execution_count": 18,
     "metadata": {},
     "output_type": "execute_result"
    }
   ],
   "source": [
    "type(name1.split('a'))"
   ]
  },
  {
   "cell_type": "code",
   "execution_count": 22,
   "id": "bafe565d-1d8e-4f41-bb85-66860087812b",
   "metadata": {},
   "outputs": [
    {
     "data": {
      "text/plain": [
       "\"jkldfieushbtuiosjto;bjsroitbjsi'rjtb'psojirweghiakfbmoivabebklr\""
      ]
     },
     "execution_count": 22,
     "metadata": {},
     "output_type": "execute_result"
    }
   ],
   "source": [
    "name2"
   ]
  },
  {
   "cell_type": "code",
   "execution_count": 23,
   "id": "7b102587-59a1-4edf-9213-a47e4abb5863",
   "metadata": {},
   "outputs": [],
   "source": [
    "#divide name 2 into list of words"
   ]
  },
  {
   "cell_type": "code",
   "execution_count": 27,
   "id": "59bf720d-b2fe-45a1-bde7-cb2f3ee47659",
   "metadata": {},
   "outputs": [],
   "source": [
    "name3=[\"Lorem Ipsum is simply dummy text of the printing and typesetting industry. Lorem Ipsum has been the industry's standard dummy text ever since the 1500s, when an unknown printer took\"]"
   ]
  },
  {
   "cell_type": "code",
   "execution_count": null,
   "id": "ccb93dd8-f5e7-4d19-8a35-98b6ebf7dcb0",
   "metadata": {},
   "outputs": [],
   "source": []
  },
  {
   "cell_type": "code",
   "execution_count": 33,
   "id": "c2352e6b-9fa9-4a70-bb57-ed7656d33d06",
   "metadata": {},
   "outputs": [
    {
     "data": {
      "text/plain": [
       "0"
      ]
     },
     "execution_count": 33,
     "metadata": {},
     "output_type": "execute_result"
    }
   ],
   "source": [
    "name3.count('is')"
   ]
  },
  {
   "cell_type": "code",
   "execution_count": 1,
   "id": "4c096aff-077c-4e0f-b687-c846ff17d436",
   "metadata": {},
   "outputs": [
    {
     "ename": "SyntaxError",
     "evalue": "invalid syntax (2057816675.py, line 1)",
     "output_type": "error",
     "traceback": [
      "\u001b[0;36m  Cell \u001b[0;32mIn[1], line 1\u001b[0;36m\u001b[0m\n\u001b[0;31m    into list\u001b[0m\n\u001b[0m         ^\u001b[0m\n\u001b[0;31mSyntaxError\u001b[0m\u001b[0;31m:\u001b[0m invalid syntax\n"
     ]
    }
   ],
   "source": [
    "into list \n",
    "#i 'lorem' ,\n",
    "# 'Ipuse' ,\n",
    "# ...)\n",
    "name3.split(\" \")"
   ]
  }
 ],
 "metadata": {
  "kernelspec": {
   "display_name": "Python 3 (ipykernel)",
   "language": "python",
   "name": "python3"
  },
  "language_info": {
   "codemirror_mode": {
    "name": "ipython",
    "version": 3
   },
   "file_extension": ".py",
   "mimetype": "text/x-python",
   "name": "python",
   "nbconvert_exporter": "python",
   "pygments_lexer": "ipython3",
   "version": "3.12.4"
  }
 },
 "nbformat": 4,
 "nbformat_minor": 5
}
