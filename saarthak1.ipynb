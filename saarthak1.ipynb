{
 "cells": [
  {
   "cell_type": "code",
   "execution_count": 1,
   "id": "67483435-e8b0-4295-b26c-06611c2a01ac",
   "metadata": {},
   "outputs": [],
   "source": [
    "name=\"saarthak umbre\""
   ]
  },
  {
   "cell_type": "code",
   "execution_count": 2,
   "id": "bcc8ddbf-7d30-4ac2-bc39-b46269dce6f6",
   "metadata": {},
   "outputs": [
    {
     "data": {
      "text/plain": [
       "'saarthak umbre'"
      ]
     },
     "execution_count": 2,
     "metadata": {},
     "output_type": "execute_result"
    }
   ],
   "source": [
    "name"
   ]
  },
  {
   "cell_type": "code",
   "execution_count": 12,
   "id": "a76800dc-4097-484c-ad1c-378a85fdc6b3",
   "metadata": {},
   "outputs": [],
   "source": [
    "#convert it into capslock\n"
   ]
  },
  {
   "cell_type": "code",
   "execution_count": 19,
   "id": "630a7329-4e83-491d-9d05-a529aa024f71",
   "metadata": {},
   "outputs": [
    {
     "data": {
      "text/plain": [
       "'SAARTHAK UMBRE'"
      ]
     },
     "execution_count": 19,
     "metadata": {},
     "output_type": "execute_result"
    }
   ],
   "source": [
    "name.upper( )"
   ]
  },
  {
   "cell_type": "code",
   "execution_count": 20,
   "id": "1ecc4485-6427-47f9-a724-5afedb0e4243",
   "metadata": {},
   "outputs": [
    {
     "data": {
      "text/plain": [
       "'saarthak umbre'"
      ]
     },
     "execution_count": 20,
     "metadata": {},
     "output_type": "execute_result"
    }
   ],
   "source": [
    "name.lower()"
   ]
  },
  {
   "cell_type": "code",
   "execution_count": 21,
   "id": "f71c8dcc-36be-4248-97a0-b931f1a38a83",
   "metadata": {},
   "outputs": [],
   "source": [
    " name=name.lower()"
   ]
  },
  {
   "cell_type": "code",
   "execution_count": 22,
   "id": "5d256827-c4f1-416d-b90b-46dc28271534",
   "metadata": {},
   "outputs": [
    {
     "data": {
      "text/plain": [
       "'saarthak umbre'"
      ]
     },
     "execution_count": 22,
     "metadata": {},
     "output_type": "execute_result"
    }
   ],
   "source": [
    "name"
   ]
  },
  {
   "cell_type": "code",
   "execution_count": 25,
   "id": "a66560a3-3454-4a33-9d28-f1a5c2355357",
   "metadata": {},
   "outputs": [],
   "source": [
    "name1= \"KRInsNa gamBOTe\""
   ]
  },
  {
   "cell_type": "code",
   "execution_count": 26,
   "id": "478027ad-bbca-4f9e-b527-1c5c1cfd6157",
   "metadata": {},
   "outputs": [
    {
     "data": {
      "text/plain": [
       "'KRInsNa gamBOTe'"
      ]
     },
     "execution_count": 26,
     "metadata": {},
     "output_type": "execute_result"
    }
   ],
   "source": [
    "name1"
   ]
  },
  {
   "cell_type": "code",
   "execution_count": 27,
   "id": "c88d5cc3-c0bb-43ee-a3e9-c2987e88bf49",
   "metadata": {},
   "outputs": [],
   "source": [
    "#captial letter should become small and vise versa"
   ]
  },
  {
   "cell_type": "code",
   "execution_count": 36,
   "id": "8f71ce31-68da-4924-92ec-240299c03e5b",
   "metadata": {},
   "outputs": [
    {
     "data": {
      "text/plain": [
       "'kriNSnA GAMbotE'"
      ]
     },
     "execution_count": 36,
     "metadata": {},
     "output_type": "execute_result"
    }
   ],
   "source": [
    "name1.swapcase()"
   ]
  },
  {
   "cell_type": "code",
   "execution_count": 39,
   "id": "ec17d63f-9760-4762-91ef-f7378951f720",
   "metadata": {},
   "outputs": [],
   "source": [
    "name2=\"                     saarthak                  umbre                            \""
   ]
  },
  {
   "cell_type": "code",
   "execution_count": 42,
   "id": "9a7077ce-5e2b-4b67-b57f-6bdd99cb9fa5",
   "metadata": {},
   "outputs": [
    {
     "data": {
      "text/plain": [
       "'                     saarthak                  umbre                            '"
      ]
     },
     "execution_count": 42,
     "metadata": {},
     "output_type": "execute_result"
    }
   ],
   "source": [
    "name2"
   ]
  },
  {
   "cell_type": "code",
   "execution_count": 50,
   "id": "39036684-03b8-4831-8d30-f1b74b2c742a",
   "metadata": {},
   "outputs": [
    {
     "data": {
      "text/plain": [
       "'saarthak                  umbre                            '"
      ]
     },
     "execution_count": 50,
     "metadata": {},
     "output_type": "execute_result"
    }
   ],
   "source": [
    "name2.lstrip  (   )"
   ]
  },
  {
   "cell_type": "code",
   "execution_count": 55,
   "id": "190691fb-d240-4710-b2a2-947c0a70adcc",
   "metadata": {},
   "outputs": [
    {
     "data": {
      "text/plain": [
       "'                     saarthak                  umbre'"
      ]
     },
     "execution_count": 55,
     "metadata": {},
     "output_type": "execute_result"
    }
   ],
   "source": [
    "name2.rstrip()"
   ]
  },
  {
   "cell_type": "code",
   "execution_count": 56,
   "id": "a57c8f7a-d8fc-4522-bea6-a684306f8944",
   "metadata": {},
   "outputs": [
    {
     "data": {
      "text/plain": [
       "'saarthak                  umbre'"
      ]
     },
     "execution_count": 56,
     "metadata": {},
     "output_type": "execute_result"
    }
   ],
   "source": [
    "name2.strip()"
   ]
  },
  {
   "cell_type": "code",
   "execution_count": 57,
   "id": "0524dc75-ed4a-44f7-95df-06816bf896f8",
   "metadata": {},
   "outputs": [],
   "source": [
    "name3= \" sammy macharla \""
   ]
  },
  {
   "cell_type": "code",
   "execution_count": 58,
   "id": "a070be0b-7b6b-444c-9398-8c2b665b8869",
   "metadata": {},
   "outputs": [
    {
     "data": {
      "text/plain": [
       "' sammy macharla '"
      ]
     },
     "execution_count": 58,
     "metadata": {},
     "output_type": "execute_result"
    }
   ],
   "source": [
    "name3"
   ]
  },
  {
   "cell_type": "code",
   "execution_count": 68,
   "id": "a6060cef-f201-4f40-9172-a976e1d624a5",
   "metadata": {},
   "outputs": [
    {
     "data": {
      "text/plain": [
       "'************************************************************************************************************************************************************************************************************************************************** sammy macharla **************************************************************************************************************************************************************************************************************************************************'"
      ]
     },
     "execution_count": 68,
     "metadata": {},
     "output_type": "execute_result"
    }
   ],
   "source": [
    "name3.center(500,'*')"
   ]
  },
  {
   "cell_type": "code",
   "execution_count": 65,
   "id": "a7ebf224-c235-4308-8861-ff183d6b679e",
   "metadata": {},
   "outputs": [
    {
     "data": {
      "text/plain": [
       "True"
      ]
     },
     "execution_count": 65,
     "metadata": {},
     "output_type": "execute_result"
    }
   ],
   "source": [
    "name3.islower()"
   ]
  },
  {
   "cell_type": "code",
   "execution_count": 67,
   "id": "62a69948-9ffc-4554-8c49-efe8f9279aba",
   "metadata": {},
   "outputs": [
    {
     "data": {
      "text/plain": [
       "False"
      ]
     },
     "execution_count": 67,
     "metadata": {},
     "output_type": "execute_result"
    }
   ],
   "source": [
    "name3.isupper()"
   ]
  },
  {
   "cell_type": "code",
   "execution_count": null,
   "id": "c377a619-4366-4e64-9405-da9780812ae0",
   "metadata": {},
   "outputs": [],
   "source": []
  }
 ],
 "metadata": {
  "kernelspec": {
   "display_name": "Python 3 (ipykernel)",
   "language": "python",
   "name": "python3"
  },
  "language_info": {
   "codemirror_mode": {
    "name": "ipython",
    "version": 3
   },
   "file_extension": ".py",
   "mimetype": "text/x-python",
   "name": "python",
   "nbconvert_exporter": "python",
   "pygments_lexer": "ipython3",
   "version": "3.12.4"
  }
 },
 "nbformat": 4,
 "nbformat_minor": 5
}
