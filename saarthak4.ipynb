{
 "cells": [
  {
   "cell_type": "code",
   "execution_count": 1,
   "id": "bad0a0ef-8ded-4f0d-8aba-86e87982906b",
   "metadata": {},
   "outputs": [],
   "source": [
    "a = [ ]"
   ]
  },
  {
   "cell_type": "code",
   "execution_count": 2,
   "id": "ed1e1aea-1161-4ab3-82fe-a5638a18ef1e",
   "metadata": {},
   "outputs": [
    {
     "data": {
      "text/plain": [
       "list"
      ]
     },
     "execution_count": 2,
     "metadata": {},
     "output_type": "execute_result"
    }
   ],
   "source": [
    "type(a)"
   ]
  },
  {
   "cell_type": "code",
   "execution_count": 4,
   "id": "6a915a70-3793-423e-9bfe-7f36d1868ce6",
   "metadata": {},
   "outputs": [],
   "source": [
    "a=[1,67,34, \"diptl\" , 56.7 , True , \"aditl\",]"
   ]
  },
  {
   "cell_type": "code",
   "execution_count": 6,
   "id": "15be9efb-f67f-414c-90ea-3232b1339d3f",
   "metadata": {},
   "outputs": [],
   "source": [
    "# Accses  56.7 from a"
   ]
  },
  {
   "cell_type": "code",
   "execution_count": 7,
   "id": "2fbc8654-fd99-4a3a-8ac3-0c63217d0e9e",
   "metadata": {},
   "outputs": [
    {
     "data": {
      "text/plain": [
       "67"
      ]
     },
     "execution_count": 7,
     "metadata": {},
     "output_type": "execute_result"
    }
   ],
   "source": [
    "a[1]"
   ]
  },
  {
   "cell_type": "code",
   "execution_count": 8,
   "id": "d9304fa0-018f-43db-949a-d2b033866490",
   "metadata": {},
   "outputs": [
    {
     "data": {
      "text/plain": [
       "34"
      ]
     },
     "execution_count": 8,
     "metadata": {},
     "output_type": "execute_result"
    }
   ],
   "source": [
    "a[2]"
   ]
  },
  {
   "cell_type": "code",
   "execution_count": 11,
   "id": "b1f5482d-5ebf-4bd2-a1fa-b780cfeb4052",
   "metadata": {},
   "outputs": [
    {
     "data": {
      "text/plain": [
       "56.7"
      ]
     },
     "execution_count": 11,
     "metadata": {},
     "output_type": "execute_result"
    }
   ],
   "source": [
    "a[4]"
   ]
  },
  {
   "cell_type": "code",
   "execution_count": 12,
   "id": "e0869450-8710-4bae-85db-28306db29d25",
   "metadata": {},
   "outputs": [
    {
     "data": {
      "text/plain": [
       "'aditl'"
      ]
     },
     "execution_count": 12,
     "metadata": {},
     "output_type": "execute_result"
    }
   ],
   "source": [
    "a[6]"
   ]
  },
  {
   "cell_type": "code",
   "execution_count": 2,
   "id": "605fc545-f26b-4e70-bdf7-67a8eaaca9a6",
   "metadata": {},
   "outputs": [
    {
     "ename": "NameError",
     "evalue": "name 'a' is not defined",
     "output_type": "error",
     "traceback": [
      "\u001b[0;31m---------------------------------------------------------------------------\u001b[0m",
      "\u001b[0;31mNameError\u001b[0m                                 Traceback (most recent call last)",
      "Cell \u001b[0;32mIn[2], line 1\u001b[0m\n\u001b[0;32m----> 1\u001b[0m a[\u001b[38;5;241m5\u001b[39m]\n",
      "\u001b[0;31mNameError\u001b[0m: name 'a' is not defined"
     ]
    }
   ],
   "source": [
    "a[5]"
   ]
  },
  {
   "cell_type": "code",
   "execution_count": null,
   "id": "4c2e0989-6215-422d-a626-97732a3cecdd",
   "metadata": {},
   "outputs": [],
   "source": []
  }
 ],
 "metadata": {
  "kernelspec": {
   "display_name": "Python 3 (ipykernel)",
   "language": "python",
   "name": "python3"
  },
  "language_info": {
   "codemirror_mode": {
    "name": "ipython",
    "version": 3
   },
   "file_extension": ".py",
   "mimetype": "text/x-python",
   "name": "python",
   "nbconvert_exporter": "python",
   "pygments_lexer": "ipython3",
   "version": "3.12.4"
  }
 },
 "nbformat": 4,
 "nbformat_minor": 5
}
